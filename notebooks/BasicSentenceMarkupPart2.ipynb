{
 "cells": [
  {
   "cell_type": "markdown",
   "metadata": {},
   "source": [
    "# Demonstration of Basic Sentence Markup with pyConTextNLP, Part 2.\n",
    "## An ever-so-slightly more complex sentence\n",
    "\n",
    "### Let's use a slightly more complex sentence that will illustrate pruning."
   ]
  },
  {
   "cell_type": "code",
   "execution_count": null,
   "metadata": {},
   "outputs": [],
   "source": [
    "import pyConTextNLP.pyConText as pyConText\n",
    "import pyConTextNLP.itemData as itemData\n",
    "import networkx as nx"
   ]
  },
  {
   "cell_type": "markdown",
   "metadata": {},
   "source": [
    "### Sentences\n",
    "\n",
    "These example reports are taken from (with modification) the [MIMIC2 demo data set](https://physionet.org/mimic2/) that is a publically available database of de-identified medical records for deceased individuals. "
   ]
  },
  {
   "cell_type": "code",
   "execution_count": null,
   "metadata": {},
   "outputs": [],
   "source": [
    "reports = [\n",
    "    \"\"\"IMPRESSION: Evaluation limited by lack of IV contrast; however, no evidence of\n",
    "      bowel obstruction or mass identified within the abdomen or pelvis. Non-specific interstitial opacities and bronchiectasis seen at the right\n",
    "     base, suggestive of post-inflammatory changes.\"\"\",\n",
    "    \"\"\"IMPRESSION: Evidence of early pulmonary vascular congestion and interstitial edema. Probable scarring at the medial aspect of the right lung base, with no\n",
    "     definite consolidation.\"\"\"\n",
    "    ,\n",
    "    \"\"\"IMPRESSION:\n",
    "     \n",
    "     1.  2.0 cm cyst of the right renal lower pole.  Otherwise, normal appearance\n",
    "     of the right kidney with patent vasculature and no sonographic evidence of\n",
    "     renal artery stenosis.\n",
    "     2.  Surgically absent left kidney.\"\"\",\n",
    "    \"\"\"IMPRESSION:  No pneumothorax.\"\"\",\n",
    "    \"\"\"IMPRESSION: No definite pneumothorax\"\"\",\n",
    "    \"\"\"IMPRESSION:  New opacity at the left lower lobe consistent with pneumonia.\"\"\"\n",
    "]"
   ]
  },
  {
   "cell_type": "markdown",
   "metadata": {},
   "source": [
    "### Read the ``itemData`` definitions"
   ]
  },
  {
   "cell_type": "code",
   "execution_count": null,
   "metadata": {},
   "outputs": [],
   "source": [
    "modifiers = itemData.get_items(\n",
    "    \"https://raw.githubusercontent.com/chapmanbe/pyConTextNLP/master/KB/lexical_kb_05042016.yml\")\n",
    "targets = itemData.get_items(\n",
    "    \"https://raw.githubusercontent.com/chapmanbe/pyConTextNLP/master/KB/utah_crit.yml\")\n"
   ]
  },
  {
   "cell_type": "markdown",
   "metadata": {},
   "source": [
    "### We're going to start with our simplest of sentences"
   ]
  },
  {
   "cell_type": "code",
   "execution_count": null,
   "metadata": {},
   "outputs": [],
   "source": [
    "reports[4]"
   ]
  },
  {
   "cell_type": "markdown",
   "metadata": {},
   "source": [
    "### marking up a sentence\n",
    "\n",
    "We start by creating an instance of the ``ConTextMarkup`` class. This is a subclass of a NetworkX DiGraph. Information will be stored in the nodes and edges. "
   ]
  },
  {
   "cell_type": "code",
   "execution_count": null,
   "metadata": {},
   "outputs": [],
   "source": [
    "markup = pyConText.ConTextMarkup()"
   ]
  },
  {
   "cell_type": "code",
   "execution_count": null,
   "metadata": {},
   "outputs": [],
   "source": [
    "markup.setRawText(reports[4].lower())\n",
    "print(markup)\n",
    "print(len(markup.getRawText()))\n",
    "\n",
    "markup.cleanText()\n",
    "print(markup)\n",
    "print(len(markup.getText()))"
   ]
  },
  {
   "cell_type": "markdown",
   "metadata": {},
   "source": [
    "#### Identify concepts in the sentence\n"
   ]
  },
  {
   "cell_type": "code",
   "execution_count": null,
   "metadata": {},
   "outputs": [
    {
     "name": "stdout",
     "output_type": "stream",
     "text": [
      "(<id> 256833253737566050220546835725615337803 </id> <phrase> no </phrase> <category> ['definite_negated_existence'] </category> , {'category': 'modifier'})\n",
      "(<id> 256833892316555915191107839689855045963 </id> <phrase> no definite </phrase> <category> ['definite_negated_existence'] </category> , {'category': 'modifier'})\n",
      "(<id> 256826997881853923908450449495296807243 </id> <phrase> definite </phrase> <category> ['definite_existence'] </category> , {'category': 'modifier'})\n",
      "(<id> 256849716557454889207255398223055655243 </id> <phrase> pneumothorax </phrase> <category> ['pneumothorax'] </category> , {'category': 'target'})\n"
     ]
    }
   ],
   "source": [
    "markup.markItems(modifiers, mode=\"modifier\")\n",
    "markup.markItems(targets, mode=\"target\")\n",
    "for node in markup.nodes(data=True):\n",
    "    print(node)\n"
   ]
  },
  {
   "cell_type": "markdown",
   "metadata": {},
   "source": [
    "#### What does our initial markup look like?\n",
    "\n",
    "* We've identified three concepts in the sentence: \n",
    "    1. \"no\"\n",
    "    1. \"no definite\"\n",
    "    1. \"pneumothorax\"\n",
    "* Here \"no\" is not a true concept in the sentence; it is a subset of the concept \"no definite\""
   ]
  },
  {
   "cell_type": "markdown",
   "metadata": {},
   "source": [
    "#### Prune Marks\n",
    "\n",
    "After identifying concepts, we prune concepts that are a subset of another identified concept."
   ]
  },
  {
   "cell_type": "code",
   "execution_count": null,
   "metadata": {},
   "outputs": [],
   "source": [
    "markup.pruneMarks()\n",
    "for node in markup.nodes(data=True):\n",
    "    print(node)"
   ]
  },
  {
   "cell_type": "markdown",
   "metadata": {},
   "source": [
    "#### What is the effect of ``pruneMarks``\n",
    "\n",
    "We've correctly dropped ``no`` as an identified concept."
   ]
  },
  {
   "cell_type": "markdown",
   "metadata": {},
   "source": [
    "#### Apply modifiers\n",
    "\n",
    "We now call the ``applyModifiers`` method of the ConTextMarkup object to identify any relationships between the nodes."
   ]
  },
  {
   "cell_type": "code",
   "execution_count": null,
   "metadata": {},
   "outputs": [],
   "source": [
    "markup.applyModifiers()\n",
    "for edge in markup.edges():\n",
    "    print(edge)"
   ]
  },
  {
   "cell_type": "markdown",
   "metadata": {},
   "source": [
    "### Here is a notebook for [Multisentence Documents](./MultiSentenceDocuments.ipynb)"
   ]
  },
  {
   "cell_type": "code",
   "execution_count": null,
   "metadata": {},
   "outputs": [],
   "source": []
  }
 ],
 "metadata": {
  "kernelspec": {
   "display_name": "Python 3",
   "language": "python",
   "name": "python3"
  },
  "language_info": {
   "codemirror_mode": {
    "name": "ipython",
    "version": 3
   },
   "file_extension": ".py",
   "mimetype": "text/x-python",
   "name": "python",
   "nbconvert_exporter": "python",
   "pygments_lexer": "ipython3",
   "version": "3.7.2"
  }
 },
 "nbformat": 4,
 "nbformat_minor": 1
}
